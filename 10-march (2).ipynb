{
 "cells": [
  {
   "cell_type": "markdown",
   "id": "5230c593-423d-47e7-a3f4-02074c01ff0d",
   "metadata": {},
   "source": [
    "Q1.\n",
    "Estimation statistics is a branch of inferential statistics that involves using sample data to make inferences or predictions about a larger population. The goal of estimation is to use a sample statistic to estimate the value of an unknown population parameter.\n",
    "\n",
    "There are two main types of estimates in estimation statistics: point estimates and interval estimates.\n",
    "\n",
    "A point estimate is a single numerical value that represents the best estimate of the population parameter based on the available sample data. For example, if we wanted to estimate the mean weight of all students in a school, we could take a sample of 100 students and calculate their mean weight. This sample mean weight would be our point estimate of the population mean weight.\n",
    "\n",
    "Interval estimates, on the other hand, provide a range of plausible values for the population parameter, rather than a single point estimate. One common type of interval estimate is the confidence interval, which is a range of values that we can be reasonably confident includes the true population parameter. For example, if we calculate a 95% confidence interval for the population mean weight of all students in a school, we would obtain a range of values that we can be 95% confident contains the true mean weight of the population.\n"
   ]
  },
  {
   "cell_type": "code",
   "execution_count": 1,
   "id": "e72908b0-d39d-4e89-aae3-e00b2f26a504",
   "metadata": {},
   "outputs": [],
   "source": [
    "# Q2.\n",
    "def estimate_pop_mean(sample_mean, sample_std, sample_size):\n",
    "    # Calculate the standard error of the mean\n",
    "    std_error_mean = sample_std / (sample_size ** 0.5)\n",
    "    \n",
    "    # Calculate the margin of error using a 95% confidence level (z-score of 1.96)\n",
    "    margin_of_error = 1.96 * std_error_mean\n",
    "    \n",
    "    # Calculate the lower and upper bounds of the confidence interval\n",
    "    lower_bound = sample_mean - margin_of_error\n",
    "    upper_bound = sample_mean + margin_of_error\n",
    "    \n",
    "    # Return the estimated population mean and confidence interval\n",
    "    return {'mean': sample_mean, 'lower_bound': lower_bound, 'upper_bound': upper_bound}\n"
   ]
  },
  {
   "cell_type": "code",
   "execution_count": 3,
   "id": "af3f6b12-7852-4955-a823-c4242efa89fe",
   "metadata": {},
   "outputs": [
    {
     "data": {
      "text/plain": [
       "{'mean': 10.5, 'lower_bound': 10.01, 'upper_bound': 10.99}"
      ]
     },
     "execution_count": 3,
     "metadata": {},
     "output_type": "execute_result"
    }
   ],
   "source": [
    "estimate_pop_mean(10.5,2.5,100)"
   ]
  },
  {
   "cell_type": "markdown",
   "id": "cb4d9ea9-620b-4560-a551-b2ef07ebe4c0",
   "metadata": {},
   "source": [
    "Q3.Hypothesis Testing: Definition, Uses, and Importance\n",
    "\n",
    "Definition\n",
    "\n",
    "Hypothesis testing is a statistical method used to determine whether a hypothesis about a population is supported by the available evidence from a sample of data. It involves testing a hypothesis by comparing the sample data to a theoretical distribution or a previously established value, in order to determine whether the hypothesis is supported or not.\n",
    "\n",
    "                                             or \n",
    "A hypothesis is an assumption or predictions about the outcome of an experiment or study                                              \n",
    "\n",
    "Uses\n",
    "\n",
    "Hypothesis testing is used in a variety of fields, including science, medicine, business, and social sciences. Some common uses of hypothesis testing include:\n",
    "\n",
    "Testing scientific hypotheses: In scientific research, hypothesis testing is used to test whether a theory or hypothesis is supported by the available data. This is important for advancing scientific knowledge and making evidence-based decisions.\n",
    "\n",
    "Quality control: In manufacturing, hypothesis testing is used to test whether a product meets certain quality standards. This can help ensure that products are safe and reliable.\n",
    "\n",
    "Medical research: In medical research, hypothesis testing is used to test whether a particular treatment or intervention is effective. This is important for developing new treatments and improving patient outcomes.\n",
    "\n",
    "Marketing research: In marketing research, hypothesis testing is used to test whether a new product or advertising campaign is likely to be successful. This can help businesses make informed decisions about marketing strategies.\n",
    "\n",
    "Importance\n",
    "\n",
    "The importance of hypothesis testing lies in its ability to help researchers and decision-makers make evidence-based decisions. Some of the key benefits of hypothesis testing include:\n",
    "\n",
    "Avoiding false conclusions: By rigorously testing a hypothesis, we can avoid making false conclusions based on incomplete or biased data.\n",
    "\n",
    "Quantifying evidence: Hypothesis testing provides a framework for quantifying the level of evidence for or against a hypothesis. This can help decision-makers make more informed decisions based on the available data.\n",
    "\n",
    "Identifying areas for further research: If a hypothesis is not supported by the available data, it can indicate that there may be other factors at play that need to be investigated further. This can help identify areas for further research or exploration.\n",
    "\n",
    "Advancing knowledge: Hypothesis testing is a powerful tool for advancing scientific knowledge and understanding the world around us."
   ]
  },
  {
   "cell_type": "markdown",
   "id": "c55f6d30-2499-4f17-9bcb-3b5fbb33c038",
   "metadata": {},
   "source": [
    "Q5.Null Hypothesis: The average weight of male college students is equal to or less than the average weight of female college students.\n",
    "\n",
    "Alternative Hypothesis: The average weight of male college students is greater than the average weight of female college students.\n",
    "\n",
    "Symbolically,\n",
    "\n",
    "H0: µmale ≤ µfemale\n",
    "\n",
    "Ha: µmale > µfemale\n",
    "\n",
    "Where µmale is the population mean weight of male college students and µfemale is the population mean weight of female college students.\n",
    "\n",
    "This hypothesis could be tested by collecting a random sample of male and female college students, measuring their weights, and performing a statistical test to determine whether there is sufficient evidence to reject the null hypothesis in favor of the alternative hypothesis."
   ]
  },
  {
   "cell_type": "code",
   "execution_count": 4,
   "id": "1cdf7a0f-91df-40d2-aba5-fdf7149247c1",
   "metadata": {},
   "outputs": [
    {
     "name": "stdout",
     "output_type": "stream",
     "text": [
      "Reject the null hypothesis\n"
     ]
    }
   ],
   "source": [
    "# Q6.\n",
    "import numpy as np\n",
    "from scipy.stats import t\n",
    "\n",
    "# Define the sample data\n",
    "sample1 = [62, 67, 73, 68, 74, 72, 76, 70, 67, 75]\n",
    "sample2 = [58, 63, 61, 64, 59, 62, 61, 65, 63, 60]\n",
    "\n",
    "# Calculate the sample means and standard deviations\n",
    "mean1 = np.mean(sample1)\n",
    "mean2 = np.mean(sample2)\n",
    "std1 = np.std(sample1, ddof=1)\n",
    "std2 = np.std(sample2, ddof=1)\n",
    "\n",
    "# Calculate the t-test statistic and p-value\n",
    "n1 = len(sample1)\n",
    "n2 = len(sample2)\n",
    "df = n1 + n2 - 2\n",
    "se = np.sqrt((std1**2/n1) + (std2**2/n2))\n",
    "t_stat = (mean1 - mean2) / se\n",
    "p_val = t.sf(np.abs(t_stat), df) * 2\n",
    "\n",
    "# Set the level of significance\n",
    "alpha = 0.05\n",
    "\n",
    "# Compare the p-value to the level of significance\n",
    "if p_val < alpha:\n",
    "    print(\"Reject the null hypothesis\")\n",
    "else:\n",
    "    print(\"Fail to reject the null hypothesis\")\n"
   ]
  },
  {
   "cell_type": "markdown",
   "id": "f98e4cdf-4eda-4fb8-bf31-58b8676af063",
   "metadata": {},
   "source": [
    "Q6: What is a null and alternative hypothesis? Give some examples.\n",
    "\n",
    "In hypothesis testing, the null hypothesis (H0) is a statement that assumes there is no significant difference between two groups or variables. It is typically the hypothesis that is tested against the alternative hypothesis (Ha), which is a statement that assumes there is a significant difference between the two groups or variables.\n",
    "\n",
    "Some examples of null and alternative hypotheses are:\n",
    "\n",
    "Null hypothesis: There is no significant difference in the mean weight of male and female college students.\n",
    "\n",
    "Alternative hypothesis: The mean weight of male college students is significantly greater than the mean weight of female college students.\n",
    "\n",
    "Null hypothesis: There is no significant difference in the effectiveness of two different pain medications.\n",
    "\n",
    "Alternative hypothesis: One pain medication is significantly more effective than the other.\n",
    "\n",
    "Null hypothesis: There is no significant relationship between hours of study and exam performance.\n",
    "\n",
    "Alternative hypothesis: Exam performance is significantly related to hours of study."
   ]
  },
  {
   "cell_type": "markdown",
   "id": "0127c22e-783e-44df-94d6-4753040157cc",
   "metadata": {},
   "source": [
    "\n",
    "Q7: Write down the steps involved in hypothesis testing.\n",
    "\n",
    "The general steps involved in hypothesis testing are as follows:\n",
    "\n",
    "1.State the null hypothesis (H0) and alternative hypothesis (Ha).\n",
    "\n",
    "2.Determine the appropriate test statistic and sampling distribution for the hypothesis test.\n",
    "\n",
    "3.Set the level of significance (alpha) and determine the critical value or p-value for the test.\n",
    "\n",
    "4.Collect the sample data and calculate the test statistic and p-value.\n",
    "\n",
    "5.Compare the p-value to the level of significance and make a decision regarding the null hypothesis. If the p-value is less than alpha, reject the null hypothesis; otherwise, fail to reject the null hypothesis.\n",
    "\n",
    "6.Interpret the results in the context of the problem and draw conclusions.\n",
    "\n",
    "                          or \n",
    "1.NUll hypothesis - the assumption you are beginning with\n",
    "\n",
    "2.Alternate hypothesis - opposite of Null hypothesis \n",
    "\n",
    "3.Experiment - collect data - data analyis \n",
    "\n",
    "4.Accept the null hypothesis or reject the null hypothesis"
   ]
  },
  {
   "cell_type": "markdown",
   "id": "28aeffa4-53ba-4603-a940-e96a9c7993a1",
   "metadata": {},
   "source": [
    "Q8.The p-value is the probability of observing a test statistic as extreme as the one calculated from the sample data, assuming the null hypothesis is true. In other words, it is the probability of obtaining a sample result as or more extreme than the one observed, if the null hypothesis is true.\n",
    "\n",
    "The significance of the p-value in hypothesis testing is that it helps us make a decision about whether to reject or fail to reject the null hypothesis. If the p-value is less than the level of significance (alpha), we reject the null hypothesis because it is unlikely to have obtained the observed results by chance alone. On the other hand, if the p-value is greater than alpha, we fail to reject the null hypothesis because there is insufficient evidence to support the alternative hypothesis.\n",
    "\n",
    "The smaller the p-value, the stronger the evidence against the null hypothesis. Typically, a significance level of 0.05 (or 5%) is used as a threshold for determining statistical significance. If the p-value is less than 0.05, the result is considered statistically significant, and we reject the null hypothesis.\n",
    "\n",
    "\n",
    "\n"
   ]
  },
  {
   "cell_type": "code",
   "execution_count": 1,
   "id": "03dfc39d-c8c8-429a-bf7c-48dd4b70b853",
   "metadata": {},
   "outputs": [
    {
     "data": {
      "image/png": "[encoded data removed]",
      "text/plain": [
       "<Figure size 640x480 with 1 Axes>"
      ]
     },
     "metadata": {},
     "output_type": "display_data"
    }
   ],
   "source": [
    "# Q9.\n",
    "import numpy as np\n",
    "import matplotlib.pyplot as plt\n",
    "from scipy.stats import t\n",
    "\n",
    "# Set the degrees of freedom parameter\n",
    "df = 10\n",
    "\n",
    "# Generate a range of x-values for the plot\n",
    "x = np.linspace(-4, 4, 1000)\n",
    "\n",
    "# Calculate the corresponding y-values for the t-distribution\n",
    "y = t.pdf(x, df)\n",
    "\n",
    "# Create the plot\n",
    "plt.plot(x, y)\n",
    "\n",
    "# Add axis labels and a title\n",
    "plt.xlabel('x')\n",
    "plt.ylabel('PDF')\n",
    "plt.title(f'Student\\'s t-Distribution with {df} Degrees of Freedom')\n",
    "\n",
    "# Display the plot\n",
    "plt.show()\n"
   ]
  },
  {
   "cell_type": "code",
   "execution_count": 5,
   "id": "07312a1c-614c-4628-aa53-51d7d59e4747",
   "metadata": {},
   "outputs": [
    {
     "name": "stdout",
     "output_type": "stream",
     "text": [
      "T-test statistic: -4.848922589145623\n",
      "P-value: 4.667309832422207e-06\n"
     ]
    }
   ],
   "source": [
    "#10\n",
    "\n",
    "import numpy as np\n",
    "from scipy.stats import ttest_ind\n",
    "\n",
    "# Generate two random samples of equal size\n",
    "sample1 = np.random.normal(loc=10, scale=2, size=50)\n",
    "sample2 = np.random.normal(loc=12, scale=2, size=50)\n",
    "\n",
    "# Calculate the t-test statistic and p-value\n",
    "t_stat, p_value = ttest_ind(sample1, sample2)\n",
    "\n",
    "# Print the results\n",
    "print(f\"T-test statistic: {t_stat}\")\n",
    "print(f\"P-value: {p_value}\")\n"
   ]
  },
  {
   "cell_type": "code",
   "execution_count": 7,
   "id": "b2050eeb-9106-4d99-87b7-5a90dd0e7bd6",
   "metadata": {},
   "outputs": [
    {
     "name": "stdout",
     "output_type": "stream",
     "text": [
      "t-statistic: -4.5089\n",
      "p-value: 0.0000\n",
      "Reject null hypothesis\n"
     ]
    }
   ],
   "source": [
    "                                                #or \n",
    "#10\n",
    "import numpy as np\n",
    "from scipy.stats import ttest_ind\n",
    "\n",
    "# Set the random seed for reproducibility\n",
    "np.random.seed(123)\n",
    "\n",
    "# Generate two random samples of equal size\n",
    "sample_size = 50\n",
    "mean1, sd1 = 10, 2\n",
    "mean2, sd2 = 12, 2\n",
    "\n",
    "sample1 = np.random.normal(loc=mean1, scale=sd1, size=sample_size)\n",
    "sample2 = np.random.normal(loc=mean2, scale=sd2, size=sample_size)\n",
    "\n",
    "# Calculate the t-statistic and p-value using scipy.stats.ttest_ind()\n",
    "t_statistic, p_value = ttest_ind(sample1, sample2)\n",
    "\n",
    "# Print the results\n",
    "print(f\"t-statistic: {t_statistic:.4f}\")\n",
    "print(f\"p-value: {p_value:.4f}\")\n",
    "\n",
    "# Check if the p-value is less than the significance level (0.05) to reject the null hypothesis\n",
    "if p_value < 0.05:\n",
    "    print(\"Reject null hypothesis\")\n",
    "else:\n",
    "    print(\"Fail to reject null hypothesis\")\n"
   ]
  },
  {
   "cell_type": "markdown",
   "id": "c2ff0a23-8539-40a2-964e-a6cc805f9c41",
   "metadata": {},
   "source": [
    "Q11:\n",
    "\n",
    "Student's t-distribution is a probability distribution that arises when estimating the mean of a normally distributed population in situations where the sample size is small and the population standard deviation is unknown. The t-distribution has a similar shape to the standard normal distribution, but it has heavier tails, which means that it allows for more variability in the data. The shape of the t-distribution depends on the sample size, with the tails becoming thinner as the sample size increases.\n",
    "\n",
    "The t-distribution is used in hypothesis testing, confidence interval estimation, and other statistical analyses when the sample size is small or the population standard deviation is unknown. It is commonly used in situations where the sample size is less than 30 or where the population variance is unknown.\n",
    "\n",
    "Q12:\n",
    "\n",
    "The t-statistic is a measure of the difference between the sample mean and the hypothesized population mean, expressed in standard error units. It is used to test hypotheses about the mean of a normally distributed population, when the sample size is small or the population variance is unknown.\n",
    "\n",
    "The formula for t-statistic is:\n",
    "\n",
    "t = (x̄ - μ) / (s / sqrt(n))\n",
    "\n",
    "where:\n",
    "\n",
    "x̄ is the sample mean\n",
    "\n",
    "μ is the hypothesized population mean under the null hypothesis\n",
    "\n",
    "s is the sample standard deviation\n",
    "\n",
    "n is the sample size\n",
    "\n",
    "The t-statistic measures how many standard errors the sample mean is away from the hypothesized population mean, under the assumption that the null hypothesis is true. If the t-statistic is large enough, it provides evidence against the null hypothesis and supports the alternative hypothesis that the population mean is different from the hypothesized value. The significance of the t-statistic is determined by comparing it to a critical value from the t-distribution with n - 1 degrees of freedom, or by calculating the p-value associated with the t-statistic."
   ]
  },
  {
   "cell_type": "markdown",
   "id": "e8b5bcc5-4ac3-4fd2-a29d-f7240fed6b18",
   "metadata": {},
   "source": [
    "Q13.To estimate the population mean revenue with a 95% confidence interval, we can use the following formula:\n",
    "\n",
    "CI = x̄ ± zα/2 * (s / sqrt(n))\n",
    "\n",
    "where CI is the confidence interval, x̄ is the sample mean revenue, s is the sample standard deviation, n is the sample size, and zα/2 is the critical value from the standard normal distribution for the desired level of confidence.\n",
    "\n",
    "In this case, x̄ = $500, s = $50, n = 50, and we want a 95% confidence interval, which corresponds to a level of significance of α = 0.05. The critical value for zα/2 can be found using a standard normal distribution table or calculator, and for a 95% confidence interval, zα/2 = 1.96.\n",
    "\n",
    "Substituting these values into the formula, we get:\n",
    "\n",
    "CI = $500 ± 1.96 * ($50 / sqrt(50))\n",
    "= $500 ± $14.14\n",
    "= ($485.86, $514.14)\n",
    "\n",
    "Therefore, we can estimate the population mean revenue with 95% confidence to be between $485.86 and $514.14.\n"
   ]
  },
  {
   "cell_type": "markdown",
   "id": "aeaf110e-f9f5-46aa-a42c-f4dfa0d12d0c",
   "metadata": {},
   "source": [
    "Q14.To test the hypothesis with a significance level of 0.05, we can use a one-sample t-test. Here are the steps:\n",
    "\n",
    "State the null hypothesis (H0) and the alternative hypothesis (Ha). In this case, the null hypothesis is that the mean decrease in blood pressure is not 10 mmHg (i.e., H0: µ ≠ 10), and the alternative hypothesis is that the mean decrease in blood pressure is indeed 10 mmHg (i.e., Ha: µ = 10).\n",
    "\n",
    "Choose the level of significance (alpha). In this case, the level of significance is given as 0.05.\n",
    "\n",
    "Calculate the test statistic. The test statistic for a one-sample t-test is given by:\n",
    "\n",
    "t = (x̄ - µ) / (s / sqrt(n))\n",
    "\n",
    "where x̄ is the sample mean, µ is the hypothesized population mean (i.e., 10 mmHg), s is the sample standard deviation, and n is the sample size.\n",
    "\n",
    "Plugging in the given values, we get:\n",
    "\n",
    "t = (8 - 10) / (3 / sqrt(100)) = -4.47\n",
    "\n",
    "Determine the degrees of freedom (df). For a one-sample t-test with a sample size of n = 100, the degrees of freedom is n - 1 = 99.\n",
    "\n",
    "Determine the critical value. The critical value for a two-tailed test with alpha = 0.05 and df = 99 is ±1.984.\n",
    "\n",
    "Compare the test statistic to the critical value. Since |t| > 1.984, we reject the null hypothesis.\n",
    "\n",
    "Calculate the p-value. The p-value is the probability of getting a test statistic as extreme as or more extreme than the observed value, assuming the null hypothesis is true. In this case, the p-value is less than 0.001, which is much smaller than the level of significance of 0.05. This further supports the rejection of the null hypothesis.\n",
    "\n",
    "Interpret the results. Based on the statistical test, we have evidence to suggest that the new drug does indeed decrease blood pressure by 10 mmHg."
   ]
  },
  {
   "cell_type": "markdown",
   "id": "b215b872-8c28-46d6-a4cf-a51a1183d06d",
   "metadata": {},
   "source": [
    "Q15.To test the hypothesis, we can use a one-sample t-test with the following hypotheses:\n",
    "\n",
    "Null hypothesis: The true mean weight is equal to 5 pounds.\n",
    "Alternative hypothesis: The true mean weight is less than 5 pounds.\n",
    "We can calculate the t-statistic using the formula:\n",
    "\n",
    "t = (x̄ - μ) / (s / sqrt(n))\n",
    "\n",
    "where x̄ is the sample mean, μ is the hypothesized population mean (5 pounds), s is the sample standard deviation, and n is the sample size.\n",
    "\n",
    "Plugging in the given values, we get:\n",
    "\n",
    "t = (4.8 - 5) / (0.5 / sqrt(25)) = -2\n",
    "\n",
    "The degrees of freedom for the t-distribution is n-1, which is 24 in this case.\n",
    "\n",
    "Using a t-table or calculator with 24 degrees of freedom, we can find the critical t-value for a one-tailed test at a significance level of 0.01 to be -2.492.\n",
    "\n",
    "Since the calculated t-statistic (-2) is less than the critical t-value (-2.492), we can reject the null hypothesis and conclude that the true mean weight of the products is less than 5 pounds at a significance level of 0.01."
   ]
  },
  {
   "cell_type": "markdown",
   "id": "1f8253dc-0731-446b-ac1e-69cdef016afb",
   "metadata": {},
   "source": [
    "Q16.To test the hypothesis that the population means for the two groups are equal, we can use a two-sample t-test for independent samples. The null hypothesis is that the population means are equal, and the alternative hypothesis is that they are not equal.\n",
    "\n",
    "The test statistic for the two-sample t-test is given by:\n",
    "\n",
    "t = (x1 - x2) / sqrt(s1^2/n1 + s2^2/n2)\n",
    "\n",
    "where x1 and x2 are the sample means, s1 and s2 are the sample standard deviations, and n1 and n2 are the sample sizes.\n",
    "\n",
    "Let us define the null and alternative hypotheses:\n",
    "\n",
    "Null hypothesis: The population means for the two groups are equal.\n",
    "Alternative hypothesis: The population means for the two groups are not equal.\n",
    "The significance level is 0.01, so the critical value for a two-tailed test with 30+40-2=68 degrees of freedom is:\n",
    "\n",
    "t_critical = +/- 2.660\n",
    "\n",
    "where 68 is the degrees of freedom (df) for a two-sample t-test.\n",
    "\n",
    "Now, let's calculate the test statistic:\n",
    "\n",
    "t = (80-75) / sqrt((10^2/30) + (8^2/40))\n",
    "\n",
    "t = 5 / sqrt(3.33 + 1.6)\n",
    "\n",
    "t = 5 / sqrt(4.93)\n",
    "\n",
    "t = 2.26\n",
    "\n",
    "Since the absolute value of the test statistic (2.26) is greater than the critical value (2.660), we reject the null hypothesis. Therefore, we can conclude that the population means for the two groups are not equal."
   ]
  },
  {
   "cell_type": "code",
   "execution_count": null,
   "id": "8bcf1c86-c46f-4ab8-b96e-55a974565f34",
   "metadata": {},
   "outputs": [],
   "source": [
    "Q16."
   ]
  }
 ],
 "metadata": {
  "kernelspec": {
   "display_name": "Python 3 (ipykernel)",
   "language": "python",
   "name": "python3"
  },
  "language_info": {
   "codemirror_mode": {
    "name": "ipython",
    "version": 3
   },
   "file_extension": ".py",
   "mimetype": "text/x-python",
   "name": "python",
   "nbconvert_exporter": "python",
   "pygments_lexer": "ipython3",
   "version": "3.10.8"
  }
 },
 "nbformat": 4,
 "nbformat_minor": 5
}
